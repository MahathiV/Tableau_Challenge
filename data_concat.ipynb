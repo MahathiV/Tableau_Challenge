{
 "cells": [
  {
   "cell_type": "code",
   "execution_count": 18,
   "metadata": {},
   "outputs": [],
   "source": [
    "#importing Libraries\n",
    "import pandas as pd\n",
    "import os"
   ]
  },
  {
   "cell_type": "code",
   "execution_count": 19,
   "metadata": {},
   "outputs": [
    {
     "data": {
      "text/plain": [
       "(1766094, 15)"
      ]
     },
     "execution_count": 19,
     "metadata": {},
     "output_type": "execute_result"
    }
   ],
   "source": [
    "# April, 2019 Csv file\n",
    "\n",
    "csv_201904 = os.path.join(\"Q2_2019_data\",\"201904-citibike-tripdata.csv\")\n",
    "df_201904 = pd.read_csv(csv_201904)\n",
    "#df_201904\n",
    "df_201904.shape"
   ]
  },
  {
   "cell_type": "code",
   "execution_count": 17,
   "metadata": {},
   "outputs": [
    {
     "data": {
      "text/plain": [
       "(1924563, 15)"
      ]
     },
     "execution_count": 17,
     "metadata": {},
     "output_type": "execute_result"
    }
   ],
   "source": [
    "# May, 2019 Csv file\n",
    "\n",
    "csv_201905 = os.path.join(\"Q2_2019_data\",\"201905-citibike-tripdata.csv\")\n",
    "df_201905 = pd.read_csv(csv_201905)\n",
    "#df_201905\n",
    "df_201905.shape"
   ]
  },
  {
   "cell_type": "code",
   "execution_count": 20,
   "metadata": {},
   "outputs": [
    {
     "data": {
      "text/plain": [
       "(2125370, 15)"
      ]
     },
     "execution_count": 20,
     "metadata": {},
     "output_type": "execute_result"
    }
   ],
   "source": [
    "# June, 2019 Csv file\n",
    "\n",
    "csv_201906 = os.path.join(\"Q2_2019_data\",\"201906-citibike-tripdata.csv\")\n",
    "df_201906 = pd.read_csv(csv_201906)\n",
    "#df_201906\n",
    "df_201906.shape"
   ]
  },
  {
   "cell_type": "code",
   "execution_count": 175,
   "metadata": {},
   "outputs": [],
   "source": [
    "# taking sample data with 40% for Oct,2019\n",
    "\n",
    "#df_201910_sample_40per = df_201910.sample(frac=0.5,random_state=0)\n",
    "#df_201910_sample_40per.shape"
   ]
  },
  {
   "cell_type": "code",
   "execution_count": 21,
   "metadata": {},
   "outputs": [
    {
     "data": {
      "text/plain": [
       "(5816027, 15)"
      ]
     },
     "execution_count": 21,
     "metadata": {},
     "output_type": "execute_result"
    }
   ],
   "source": [
    "#concatenating all the month-wise data from second quater.\n",
    "\n",
    "sec_quarter_2019 = pd.concat([df_201904,df_201905,df_201906],ignore_index = True)\n",
    "\n",
    "sec_quarter_2019.shape"
   ]
  },
  {
   "cell_type": "code",
   "execution_count": 22,
   "metadata": {},
   "outputs": [],
   "source": [
    "# Exporting as a single Csv file\n",
    "\n",
    "sec_quarter_2019.to_csv(\"Data_final/Q2_2019.csv\",encoding='utf-8',index=False)"
   ]
  },
  {
   "cell_type": "code",
   "execution_count": null,
   "metadata": {},
   "outputs": [],
   "source": []
  }
 ],
 "metadata": {
  "kernelspec": {
   "display_name": "Python 3",
   "language": "python",
   "name": "python3"
  },
  "language_info": {
   "codemirror_mode": {
    "name": "ipython",
    "version": 3
   },
   "file_extension": ".py",
   "mimetype": "text/x-python",
   "name": "python",
   "nbconvert_exporter": "python",
   "pygments_lexer": "ipython3",
   "version": "3.7.3"
  }
 },
 "nbformat": 4,
 "nbformat_minor": 2
}
